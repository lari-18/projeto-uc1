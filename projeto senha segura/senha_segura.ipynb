{
  "nbformat": 4,
  "nbformat_minor": 0,
  "metadata": {
    "colab": {
      "provenance": []
    },
    "kernelspec": {
      "name": "python3",
      "display_name": "Python 3"
    },
    "language_info": {
      "name": "python"
    }
  },
  "cells": [
    {
      "cell_type": "code",
      "source": [
        "import random\n",
        "import sys\n",
        "import string\n",
        "\n"
      ],
      "metadata": {
        "id": "42Yh11s4Myjz"
      },
      "execution_count": null,
      "outputs": []
    },
    {
      "cell_type": "code",
      "source": [
        "def validaContinuar(continuar):\n",
        "    if continuar == \"s\":\n",
        "        return True\n",
        "    else:\n",
        "        return False"
      ],
      "metadata": {
        "id": "9Ug0zgZMB09O"
      },
      "execution_count": null,
      "outputs": []
    },
    {
      "cell_type": "code",
      "source": [
        "def validaMaiusculasSenha(maiusculasSenha):\n",
        "    for letra in maiusculasSenha:\n",
        "          if not letra.isupper():\n",
        "            return False\n",
        "    return True"
      ],
      "metadata": {
        "id": "DYxVFHmuOHeh"
      },
      "execution_count": null,
      "outputs": []
    },
    {
      "cell_type": "code",
      "source": [
        "def validaMinusculasSenha(minusculasSenha):\n",
        "    for letra in minusculasSenha:\n",
        "        if not letra.islower():\n",
        "            return False\n",
        "    return True"
      ],
      "metadata": {
        "id": "YMzWMV6eR82O"
      },
      "execution_count": null,
      "outputs": []
    },
    {
      "cell_type": "code",
      "source": [
        "def validaSimbolosSenha(simbolosSenha):\n",
        "    simbolos = set(string.punctuation)\n",
        "\n",
        "    for caractere in simbolosSenha:\n",
        "        if caractere in simbolos:\n",
        "            return True\n",
        "    return False"
      ],
      "metadata": {
        "id": "mbHBsZ_rVQtT"
      },
      "execution_count": null,
      "outputs": []
    },
    {
      "cell_type": "code",
      "source": [
        "def validaNumeros(numerosSenha):\n",
        "    return numerosSenha.isdigit()"
      ],
      "metadata": {
        "id": "7BjeZivvYxpA"
      },
      "execution_count": null,
      "outputs": []
    },
    {
      "cell_type": "code",
      "source": [
        "mensagemBoasVindas= (\"Olá, tudo bem? Seja bem vindo ao programa onde nele geraremos um código para uma senha segura especialmente pra você! \\U0001F609\")\n",
        "print(mensagemBoasVindas)\n",
        "\n",
        "continuar = input(\"Gostariamos de saber se você quer continuar o processo? (Digite s ou n)\")\n",
        "print(continuar)\n",
        "\n",
        "if validaContinuar(continuar):\n",
        "    print(\"\\nVamos estar dando continuidade \\U0001F60A.\")\n",
        "else:\n",
        "    print(\"\\nEncerramos aqui o processo \\U0001F61E.\")\n",
        "    sys.exit()\n",
        "inicio = (\"\\nAgora, precisamos de algumas de suas preferências para poder gerar sua senha segura  \")\n",
        "meio = (\"\\nAbaixo, estará disponivel algumas informações para você preencher, \")\n",
        "fim = (\"com elas, a senha será feita de acordo com sua escolha, até mesmo na quantidade de caracteres!\")\n",
        "print(inicio)\n",
        "print(meio)\n",
        "print(fim)\n",
        "\n",
        "numerosSenha = input('\\nDigite o(s) número(s): ')\n",
        "if not validaNumeros(numerosSenha):\n",
        "   print(\"Caracter de numero da senha inválida!!\")\n",
        "   sys.exit()\n",
        "simbolosSenha = input('\\nDigite o(s) simbolo(s): ')\n",
        "if validaSimbolosSenha(simbolosSenha) == False:\n",
        "   print(\"\\nCaracter de numero da senha inválida!!.\")\n",
        "   sys.exit()\n",
        "maiusculasSenha = input('\\nDigite a(s) letra(s) maiuscula(s): ')\n",
        "if validaMaiusculasSenha(maiusculasSenha) == False:\n",
        "    print(\"\\nCaracter de letra maiscula da senha inválido!!.\")\n",
        "    sys.exit()\n",
        "minusculasSenha = input('\\nDigite a(s) letra(s) minuscula(s): ')\n",
        "if validaMinusculasSenha(minusculasSenha)== False:\n",
        "  print(\"\\nCaracter de letra minuscula da senha inválido!!\" )\n",
        "  sys.exit()\n",
        "\n",
        "senha = str(numerosSenha) + simbolosSenha  + maiusculasSenha + minusculasSenha\n",
        "senha_segura = list(senha)\n",
        "random.shuffle(senha_segura)\n",
        "senha_junta = ''.join(senha_segura)\n",
        "\n",
        "print(\"\\nSua senha segura é:\", senha_junta)\n"
      ],
      "metadata": {
        "colab": {
          "base_uri": "https://localhost:8080/"
        },
        "id": "FlJAojQGBoiy",
        "outputId": "d8c9d7db-32a7-4832-e68f-cf9d6168cdd4"
      },
      "execution_count": null,
      "outputs": [
        {
          "output_type": "stream",
          "name": "stdout",
          "text": [
            "Olá, tudo bem? Seja bem vindo ao programa onde nele geraremos um código para uma senha segura especialmente pra você! 😉\n",
            "Gostariamos de saber se você quer continuar o processo? (Digite s ou n)s\n",
            "s\n",
            "\n",
            "Vamos estar dando continuidade 😊.\n",
            "\n",
            "Agora, precisamos de algumas de suas preferências para poder gerar sua senha segura  \n",
            "\n",
            "Abaixo, estará disponivel algumas informações para você preencher, \n",
            "com elas, a senha será feita de acordo com sua escolha, até mesmo na quantidade de caracteres!\n",
            "\n",
            "Digite o(s) número(s): 7\n",
            "\n",
            "Digite o(s) simbolo(s): **\n",
            "\n",
            "Digite a(s) letra(s) maiuscula(s): RA\n",
            "\n",
            "Digite a(s) letra(s) minuscula(s): lara\n",
            "\n",
            "Sua senha segura é: 7*a*AlarR\n"
          ]
        }
      ]
    }
  ]
}